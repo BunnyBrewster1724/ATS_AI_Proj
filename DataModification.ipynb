{
  "nbformat": 4,
  "nbformat_minor": 0,
  "metadata": {
    "colab": {
      "provenance": []
    },
    "kernelspec": {
      "name": "python3",
      "display_name": "Python 3"
    },
    "language_info": {
      "name": "python"
    }
  },
  "cells": [
    {
      "cell_type": "code",
      "execution_count": null,
      "metadata": {
        "colab": {
          "base_uri": "https://localhost:8080/"
        },
        "id": "yZVLloiVAyHs",
        "outputId": "19eed968-296e-4954-f9cc-57c99fc5d868"
      },
      "outputs": [
        {
          "output_type": "stream",
          "name": "stdout",
          "text": [
            "✅ CSV updated and saved as 'updated_job_skills.csv'\n"
          ]
        }
      ],
      "source": [
        "import pandas as pd\n",
        "import re\n",
        "\n",
        "# Function to extract job title from LinkedIn job link\n",
        "def extract_job_title(link):\n",
        "    match = re.search(r\"jobs/view/([^?]+)\", link)  # Extract everything after 'jobs/view/' before '?'\n",
        "    if match:\n",
        "        job_title = match.group(1).replace(\"-\", \" \").strip()  # Replace '-' with spaces\n",
        "        return job_title.title()  # Capitalize each word\n",
        "    return None\n",
        "\n",
        "# Load only the first 30,000 rows\n",
        "df = pd.read_csv(\"job_skills.csv\", encoding=\"utf-8\", nrows=700000)\n",
        "\n",
        "# Apply function to replace job links with extracted titles\n",
        "df[\"job_link\"] = df[\"job_link\"].apply(lambda x: extract_job_title(str(x)) if pd.notna(x) else x)\n",
        "\n",
        "# Save the modified dataset\n",
        "df.to_csv(\"updated_job_skills.csv\", index=False)\n",
        "\n",
        "print(\"✅ CSV updated and saved as 'updated_job_skills.csv'\")"
      ]
    },
    {
      "cell_type": "code",
      "source": [
        "import pandas as pd\n",
        "from sklearn.feature_extraction.text import TfidfVectorizer\n",
        "from sklearn.metrics.pairwise import cosine_similarity\n",
        "\n",
        "# Load the CSV\n",
        "df = pd.read_csv(\"updated_job_skills.csv\")\n",
        "\n",
        "# Clean data: remove rows with missing skills\n",
        "df_cleaned = df.dropna(subset=['job_skills'])\n",
        "\n",
        "# Vectorize job skills\n",
        "vectorizer = TfidfVectorizer()\n",
        "job_skill_vectors = vectorizer.fit_transform(df_cleaned['job_skills'])\n",
        "\n",
        "# Simulate user's resume skills\n",
        "user_skills = \"Project management, Data analysis, Leadership, Communication\"\n",
        "user_vector = vectorizer.transform([user_skills])\n",
        "\n",
        "# Compute cosine similarity\n",
        "similarities = cosine_similarity(user_vector, job_skill_vectors).flatten()\n",
        "\n",
        "# Get top 5 job matches\n",
        "top_indices = similarities.argsort()[-5:][::-1]\n",
        "top_jobs = df_cleaned.iloc[top_indices][['job_link', 'job_skills']]\n",
        "top_jobs['similarity'] = similarities[top_indices]\n",
        "\n",
        "# Display results\n",
        "print(top_jobs.reset_index(drop=True))\n"
      ],
      "metadata": {
        "colab": {
          "base_uri": "https://localhost:8080/"
        },
        "id": "6IfGRwYNIOmw",
        "outputId": "124ee375-65b2-4634-9880-dffe1a0cf616"
      },
      "execution_count": null,
      "outputs": [
        {
          "output_type": "stream",
          "name": "stdout",
          "text": [
            "                                            job_link  \\\n",
            "0  Senior Finance Data Accountant At Jobs Via Efi...   \n",
            "1               Project Accountant At Cph 3769566480   \n",
            "2              Project Manager At Carrier 3664483936   \n",
            "3      Project Manager At Ats Corporation 3759791884   \n",
            "4  Project Manager Senior Project Manager At Atki...   \n",
            "\n",
            "                                          job_skills  similarity  \n",
            "0  Data Reconciliation, Accounting Software, Fina...    0.495194  \n",
            "1  Project Accounting, Project Management, Projec...    0.492654  \n",
            "2  Agile methodologies, Scrum, Continuous Integra...    0.480477  \n",
            "3  Automation projects management, Project leader...    0.480073  \n",
            "4  Project Management, Project Leadership, Projec...    0.479045  \n"
          ]
        }
      ]
    }
  ]
}